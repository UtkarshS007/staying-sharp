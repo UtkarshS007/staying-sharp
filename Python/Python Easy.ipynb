{
 "cells": [
  {
   "cell_type": "markdown",
   "metadata": {},
   "source": [
    "Find the number of workers by department who joined on or after April 1, 2014.\n",
    "Output the department name along with the corresponding number of workers.\n",
    "Sort the results based on the number of workers in descending order."
   ]
  },
  {
   "cell_type": "code",
   "execution_count": null,
   "metadata": {},
   "outputs": [],
   "source": [
    "#Solution\n",
    "\n",
    "import pandas as pd\n",
    "filtered_worker = worker[worker['joining_date'].dt.month >= 4]\n",
    "filtered_worker\n",
    "\n",
    "a = filtered_worker.groupby(by = ['department']).size().reset_index(name='worker_count').sort_values(by ='worker_count', ascending = False)"
   ]
  }
 ],
 "metadata": {
  "language_info": {
   "name": "python"
  }
 },
 "nbformat": 4,
 "nbformat_minor": 2
}
